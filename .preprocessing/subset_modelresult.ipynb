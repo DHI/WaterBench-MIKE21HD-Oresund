{
 "cells": [
  {
   "cell_type": "code",
   "execution_count": 18,
   "metadata": {},
   "outputs": [],
   "source": [
    "import mikeio"
   ]
  },
  {
   "cell_type": "code",
   "execution_count": null,
   "metadata": {},
   "outputs": [],
   "source": [
    "mr_fldr = \"../output/\"\n",
    "out_fldr = \"../output_sample/\"\n",
    "files = [\"Area.dfsu\", \"points.dfs0\"]\n",
    "time_slice = slice(\"2023-12-01\",\"2023-12-8 00:00\")"
   ]
  },
  {
   "cell_type": "code",
   "execution_count": null,
   "metadata": {},
   "outputs": [],
   "source": [
    "for fn in files:\n",
    "    print(f\"Processing {fn}\")\n",
    "    ds = mikeio.read(mr_fldr + fn, time=time_slice)\n",
    "    ds.to_dfs(out_fldr + fn)"
   ]
  }
 ],
 "metadata": {
  "kernelspec": {
   "display_name": ".venv",
   "language": "python",
   "name": "python3"
  },
  "language_info": {
   "codemirror_mode": {
    "name": "ipython",
    "version": 3
   },
   "file_extension": ".py",
   "mimetype": "text/x-python",
   "name": "python",
   "nbconvert_exporter": "python",
   "pygments_lexer": "ipython3",
   "version": "3.13.0"
  }
 },
 "nbformat": 4,
 "nbformat_minor": 2
}
