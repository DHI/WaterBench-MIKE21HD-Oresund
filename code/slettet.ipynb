{
 "cells": [
  {
   "cell_type": "code",
   "execution_count": null,
   "metadata": {
    "vscode": {
     "languageId": "plaintext"
    }
   },
   "outputs": [],
   "source": [
    "t_start = -2000\n",
    "t_end = -1\n",
    "print(\"Drogden:\", abs(cc_u[\"Drogden\"].data[\"MIKE21\"].values[t_start:t_end]-cc_v[\"Drogden\"].data[\"MIKE21\"].values[t_start:t_end]).mean())\n",
    "print(\"Flinten7:\", abs(cc_u[\"Flinten7\"].data[\"MIKE21\"].values[t_start:t_end]-cc_v[\"Flinten7\"].data[\"MIKE21\"].values[t_start:t_end]).mean())\n",
    "print(\"Helsingborg:\", abs(cc_u[\"Helsingborg\"].data[\"MIKE21\"].values[t_start:t_end]-cc_v[\"Helsingborg\"].data[\"MIKE21\"].values[t_start:t_end]).mean())\n",
    "\n",
    "\n",
    "# Look at a timeseries for a qualitative comparison between observations and model\n",
    "fig,axs = plt.subplots(3,1,figsize=(12,10))\n",
    "for i in range(len(cc_u)):\n",
    "    axs[i].plot(cc_u[i].sel(time=cc_u[i].time[t_start:t_end]).data[\"MIKE21\"].time,cc_u[i].sel(time=cc_u[i].time[t_start:t_end]).data[\"MIKE21\"].values, 'b-',label=\"MIKE21\")\n",
    "    axs[i].plot(cc_v[i].sel(time=cc_v[i].time[t_start:t_end]).data[\"MIKE21\"].time,cc_v[i].sel(time=cc_v[i].time[t_start:t_end]).data[\"MIKE21\"].values, 'r-',label=\"MIKE21\")\n",
    "    axs[i].set_title(cc_u[i].name)\n",
    "    axs[i].set_title(cc_v[i].name)\n",
    "plt.tight_layout()\n",
    "plt.show()"
   ]
  },
  {
   "cell_type": "code",
   "execution_count": null,
   "metadata": {
    "vscode": {
     "languageId": "plaintext"
    }
   },
   "outputs": [],
   "source": []
  }
 ],
 "metadata": {
  "language_info": {
   "name": "python"
  }
 },
 "nbformat": 4,
 "nbformat_minor": 2
}
