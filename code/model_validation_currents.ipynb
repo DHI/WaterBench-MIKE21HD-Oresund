{
 "cells": [
  {
   "cell_type": "markdown",
   "metadata": {},
   "source": [
    "# Model validation currents\n",
    "\n",
    "Note: this notebook requires the model output data"
   ]
  },
  {
   "cell_type": "code",
   "execution_count": 18,
   "metadata": {},
   "outputs": [],
   "source": [
    "import modelskill as ms\n",
    "import matplotlib.pyplot as plt\n",
    "import helper as h"
   ]
  },
  {
   "cell_type": "code",
   "execution_count": 8,
   "metadata": {},
   "outputs": [],
   "source": [
    "obs_fldr = \"../observations/\" \n",
    "mr_fldr = \"../output/\"\n",
    "mr_fn = f\"{mr_fldr}Area.dfsu\""
   ]
  },
  {
   "cell_type": "code",
   "execution_count": 9,
   "metadata": {},
   "outputs": [],
   "source": [
    "ulist, vlist = h.get_u_v_point_obs()"
   ]
  },
  {
   "cell_type": "code",
   "execution_count": 15,
   "metadata": {},
   "outputs": [
    {
     "data": {
      "text/plain": [
       "<DfsuModelResult>: MIKE21\n",
       "Time: 2014-01-01 00:00:00 - 2023-12-31 23:00:00\n",
       "Quantity: u velocity component [m/s]"
      ]
     },
     "execution_count": 15,
     "metadata": {},
     "output_type": "execute_result"
    }
   ],
   "source": [
    "mr_u = ms.DfsuModelResult(mr_fn, name=\"MIKE21\", item=1)\n",
    "mr_v = ms.DfsuModelResult(mr_fn, name=\"MIKE21\", item=2)\n",
    "mr_u\n"
   ]
  },
  {
   "cell_type": "code",
   "execution_count": 16,
   "metadata": {},
   "outputs": [
    {
     "data": {
      "text/plain": [
       "<ComparerCollection>\n",
       "Comparers:\n",
       "0: Drogden - u-current [m/s]\n",
       "1: Flinten7 - u-current [m/s]\n",
       "2: Helsingborg - u-current [m/s]"
      ]
     },
     "execution_count": 16,
     "metadata": {},
     "output_type": "execute_result"
    }
   ],
   "source": [
    "cc_u = ms.match(obs=ulist, mod=mr_u)\n",
    "cc_v = ms.match(obs=vlist, mod=mr_v)\n",
    "cc_u"
   ]
  },
  {
   "cell_type": "code",
   "execution_count": null,
   "metadata": {},
   "outputs": [],
   "source": [
    "fig,axs = plt.subplots(1,2,figsize=(12,6))\n",
    "cc_u[0].plot.scatter(ax=axs[0])\n",
    "cc_v[0].plot.scatter(ax=axs[1])\n",
    "axs[0].set_title(\"u: \"+cc_u[0].name)\n",
    "axs[1].set_title(\"v: \"+cc_v[0].name)\n",
    "plt.tight_layout()\n",
    "plt.show()"
   ]
  },
  {
   "cell_type": "code",
   "execution_count": null,
   "metadata": {},
   "outputs": [],
   "source": [
    "# Look at a timeseries for a qualitative comparison between observations and model\n",
    "fig,ax=plt.subplots(1,2,figsize=(10,4))\n",
    "cc_u[\"Helsingborg\"].sel(time=slice(\"2017-12-01\",\"2017-12-14\")).plot.timeseries(ax=ax[0])\n",
    "cc_v[\"Helsingborg\"].sel(time=slice(\"2017-12-01\",\"2017-12-14\")).plot.timeseries(ax=ax[1])"
   ]
  }
 ],
 "metadata": {
  "kernelspec": {
   "display_name": "oresund",
   "language": "python",
   "name": "python3"
  },
  "language_info": {
   "codemirror_mode": {
    "name": "ipython",
    "version": 3
   },
   "file_extension": ".py",
   "mimetype": "text/x-python",
   "name": "python",
   "nbconvert_exporter": "python",
   "pygments_lexer": "ipython3",
   "version": "3.12.5"
  }
 },
 "nbformat": 4,
 "nbformat_minor": 2
}
